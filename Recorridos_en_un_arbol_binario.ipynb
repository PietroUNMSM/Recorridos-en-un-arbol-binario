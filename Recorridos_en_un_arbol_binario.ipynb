{
  "nbformat": 4,
  "nbformat_minor": 0,
  "metadata": {
    "kernelspec": {
      "display_name": "Python 3.9.2 64-bit",
      "name": "python392jvsc74a57bd08da01e5a71448ea74f54d88afa8911010d1d12e23bc7e103d40d5def4a09152c"
    },
    "language_info": {
      "codemirror_mode": {
        "name": "ipython",
        "version": 3
      },
      "file_extension": ".py",
      "mimetype": "text/x-python",
      "name": "python",
      "nbconvert_exporter": "python",
      "pygments_lexer": "ipython3",
      "version": "3.9.2"
    },
    "metadata": {
      "interpreter": {
        "hash": "8da01e5a71448ea74f54d88afa8911010d1d12e23bc7e103d40d5def4a09152c"
      }
    },
    "orig_nbformat": 2,
    "colab": {
      "name": "Recorridos en un arbol binario.ipynb",
      "provenance": []
    }
  },
  "cells": [
    {
      "cell_type": "markdown",
      "metadata": {
        "id": "y-ZBI_j1hcYh"
      },
      "source": [
        "# Recorridos en un árbol binario"
      ]
    },
    {
      "cell_type": "code",
      "metadata": {
        "id": "ezAgvwEZhcYm"
      },
      "source": [
        "import os  #Libreria de acceso a funciones del sistema "
      ],
      "execution_count": null,
      "outputs": []
    },
    {
      "cell_type": "markdown",
      "metadata": {
        "id": "axXa5hr1hcYn"
      },
      "source": [
        "## Clase node"
      ]
    },
    {
      "cell_type": "code",
      "metadata": {
        "id": "kICVVQ1BhcYo"
      },
      "source": [
        "#Aplicando el concepto Clase de POO\n",
        "class node():\n",
        "    #Se define la función '__init__' para inicializar atributos\n",
        "    #self referido al objeto instanciado de la clase a la cual se invoca, util para la recursividad\n",
        "    def __init__(self, dato):\n",
        "        self.izquierda = None #Nodo dirigido al sub-arbol izquierdo\n",
        "        self.derecha = None #Nodo dirigido al sub-arbol derecho\n",
        "        self.dato = dato #Nodo raiz"
      ],
      "execution_count": null,
      "outputs": []
    },
    {
      "cell_type": "markdown",
      "metadata": {
        "id": "CiUfnffYhcYo"
      },
      "source": [
        "## Clase arbol_binario"
      ]
    },
    {
      "cell_type": "code",
      "metadata": {
        "id": "7ZaBQywVhcYp"
      },
      "source": [
        "class arbol_binario(): #Se define la clase 'arbol_binario\n",
        "    def __init__(self):\n",
        "        self.raiz = None #Se inicializa vacio a la raiz/nodo del arbol binario\n",
        "\n",
        "    #Dentro de los parametros de las funciones: 'a' será una variable auxiliar para la variable arbol = arbol_binario\n",
        "    #Dentro de los parametros de las funciones: 'dato' será una variable auxiliar para el valor del nodo\n",
        "    def insertar(self, a, dato):\n",
        "        if a == None: #Si el arbol está vacio\n",
        "            a = node(dato) #definiendo a la raíz en a.dato ('self.dato')\n",
        "        else:\n",
        "            d = a.dato \n",
        "            if dato < d:\n",
        "                a.izquierda = self.insertar(a.izquierda, dato)\n",
        "            else:\n",
        "                a.derecha = self.insertar(a.derecha, dato)\n",
        "        return a \n",
        "\n",
        "    def inorden(self, a): #Revisa en el sgte: raiz izquierda, raiz, raiz derecha\n",
        "        if a == None:\n",
        "            return None\n",
        "        else: #Se usa 'a' como un nuevo sub-arbol\n",
        "            self.inorden(a.izquierda)\n",
        "            print(a.dato, sep=' ')\n",
        "            self.inorden(a.derecha)\n",
        "\n",
        "    def preorden(self, a): # Revisa en el sgte orden: raiz, raiz izquierda, raiz derecha\n",
        "        if a == None:\n",
        "            return None\n",
        "        else: #Se usa 'a' como un nuevo sub-arbol\n",
        "            print(a.dato, sep=' ')\n",
        "            self.preorden(a.izquierda)\n",
        "            self.preorden(a.derecha)\n",
        "\n",
        "    def postorden(self, a): #Revisa en el sgte orden: raiz izquierda, raiz derecha, raiz\n",
        "        if a == None:\n",
        "            return None\n",
        "        else: #Se usa 'a' como un nuevo sub-arbol\n",
        "            self.postorden(a.izquierda)\n",
        "            self.postorden(a.derecha)\n",
        "            print(a.dato, sep=' ')\n",
        "\n",
        "    def buscar(self, dato, a):\n",
        "        if a == None:\n",
        "            return None\n",
        "        else:\n",
        "            if dato == a.dato:\n",
        "                return a.dato\n",
        "            else:\n",
        "                if dato < a.dato:\n",
        "                    return self.buscar(dato, a.izquierda)\n",
        "                else:\n",
        "                    return self.buscar(dato, a.derecha)\n"
      ],
      "execution_count": null,
      "outputs": []
    },
    {
      "cell_type": "markdown",
      "metadata": {
        "id": "CBuf8Om2hcYq"
      },
      "source": [
        "## MENÚ"
      ]
    },
    {
      "cell_type": "code",
      "metadata": {
        "colab": {
          "base_uri": "https://localhost:8080/"
        },
        "id": "ju56riOjhcYq",
        "outputId": "a45924f6-11bf-42a2-da10-cda5c6dcc708"
      },
      "source": [
        "#declarando la clase 'arbol_binario' a la variable arbol\n",
        "arbol = arbol_binario()\n",
        "print(\"\\tARBOL BINARIO - ABB\") #MENU\n",
        "print(\"\\n1.-Insertar nodo \\n2.-Preorden \\n3.-Inorden \\n4.-Postorden \\n5.-Buscar \\n6-Salir \")\n",
        "\n",
        "while True:\n",
        "    os.system(\"cls\")\n",
        "    opc = int(input(\"Elige una opcion ->\"))\n",
        "\n",
        "    if opc == 1:\n",
        "        nodo = input(\"\\nIngresa el nodo ->\")\n",
        "        if nodo.isdigit(): # self.isdigit() se usa para verificar que la cadena solo contiene digitos\n",
        "            nodo = int(nodo) # Se solicita un valor entero al nodo\n",
        "            arbol.raiz = arbol.insertar(arbol.raiz, nodo) #Se almacena el nodo en la variable arbol.raiz\n",
        "        else:\n",
        "            print(\"\\nIngresa solo digitos...\")\n",
        "    elif opc == 2: #Calcular el recorrido preorden\n",
        "        if arbol.raiz == None: #Si no se ha digitado ningun nodo\n",
        "            print(\"Vacio\")\n",
        "        else:\n",
        "            print(\"\\nRECORRIDO PREORDEN\\n\")\n",
        "            arbol.preorden(arbol.raiz)\n",
        "    elif opc == 3: #Calcular el recorrido inorden\n",
        "        if arbol.raiz == None:\n",
        "            print(\"Vacio\")\n",
        "        else:\n",
        "            print(\"\\nRECORRIDO INORDEN\\n\")\n",
        "            arbol.inorden(arbol.raiz)\n",
        "    elif opc == 4: #Calcular el recorrido postorden\n",
        "        if arbol.raiz == None: \n",
        "            print(\"Vacio\")\n",
        "        else: \n",
        "            print(\"\\nRECORRIDO POSTORDEN\\n\")\n",
        "            arbol.postorden(arbol.raiz)\n",
        "    elif opc == 5: #Busqueda del nodo\n",
        "        nodo = input(\"\\nIngresa el nodo a buscar ->\")\n",
        "        if nodo.isdigit():\n",
        "            nodo = int(nodo) #Se solicita un valor entero al nodo\n",
        "            if arbol.buscar(nodo, arbol.raiz) == None:\n",
        "                print(\"\\nNodo no encontrado...\")\n",
        "            else:\n",
        "                print(\"\\nNodo encontrado ->\",arbol.buscar(nodo, arbol.raiz), \"si existe.\")\n",
        "        else:\n",
        "            print(\"\\nIngrese solo digitos...\")\n",
        "    elif opc == 6: #Salir del menu\n",
        "        print(\"\\nElegiste salir...\")\n",
        "        os.system(\"pause\")\n",
        "        break\n",
        "    else:\n",
        "        print(\"\\nElige una opción correcta...\")\n",
        "    print()\n",
        "    os.system(\"pause\")\n",
        "\n",
        "#Como ejercicio agregamos los siguientes nodos: 11, 13, 15, 08, 03, 20, 09, 14, 12\n"
      ],
      "execution_count": null,
      "outputs": [
        {
          "output_type": "stream",
          "text": [
            "\tARBOL BINARIO - ABB\n",
            "\n",
            "1.-Insertar nodo \n",
            "2.-Preorden \n",
            "3.-Inorden \n",
            "4.-Postorden \n",
            "5.-Buscar \n",
            "6-Salir \n",
            "Elige una opcion ->1\n",
            "\n",
            "Ingresa el nodo ->10\n",
            "\n",
            "Elige una opcion ->1\n",
            "\n",
            "Ingresa el nodo ->2\n",
            "\n",
            "Elige una opcion ->1\n",
            "\n",
            "Ingresa el nodo ->4\n",
            "\n",
            "Elige una opcion ->1\n",
            "\n",
            "Ingresa el nodo ->9\n",
            "\n",
            "Elige una opcion ->1\n",
            "\n",
            "Ingresa el nodo ->7\n",
            "\n",
            "Elige una opcion ->1\n",
            "\n",
            "Ingresa el nodo ->13\n",
            "\n",
            "Elige una opcion ->1\n",
            "\n",
            "Ingresa el nodo ->15\n",
            "\n",
            "Elige una opcion ->1\n",
            "\n",
            "Ingresa el nodo ->19\n",
            "\n",
            "Elige una opcion ->1\n",
            "\n",
            "Ingresa el nodo ->23\n",
            "\n",
            "Elige una opcion ->1\n",
            "\n",
            "Ingresa el nodo ->21\n",
            "\n",
            "Elige una opcion ->4\n",
            "\n",
            "RECORRIDO POSTORDEN\n",
            "\n",
            "7\n",
            "9\n",
            "4\n",
            "2\n",
            "21\n",
            "23\n",
            "19\n",
            "15\n",
            "13\n",
            "10\n",
            "\n",
            "Elige una opcion ->6\n",
            "\n",
            "Elegiste salir...\n"
          ],
          "name": "stdout"
        }
      ]
    }
  ]
}